{
 "cells": [
  {
   "cell_type": "markdown",
   "metadata": {},
   "source": [
    "### データベース作成の極意\n",
    "参照：  \n",
    "- [データベース設計の際に気をつけていること](https://tech.tabechoku.com/entry/2020/06/15/132518)\n",
    "- [4ステップで作成する、DB論理設計の手順とチェックポイントまとめ](https://qiita.com/nishina555/items/a79ece1b54faf7240fac)\n",
    "- [データベース設計の基本の進め方！](https://hibiki.dreamarts.co.jp/smartdb/learning/le-sp211202-3/)"
   ]
  },
  {
   "cell_type": "code",
   "execution_count": null,
   "metadata": {
    "vscode": {
     "languageId": "plaintext"
    }
   },
   "outputs": [],
   "source": []
  }
 ],
 "metadata": {
  "language_info": {
   "name": "python"
  }
 },
 "nbformat": 4,
 "nbformat_minor": 2
}
